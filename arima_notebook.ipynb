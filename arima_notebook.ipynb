{
  "cells": [
    {
      "cell_type": "code",
      "execution_count": 1,
      "metadata": {
        "id": "vf7VBoiJgzZ4"
      },
      "outputs": [],
      "source": [
        "import pandas as pd\n",
        "import numpy as np\n",
        "from statsmodels.tsa.stattools import adfuller\n",
        "from statsmodels.tsa.arima.model import ARIMA\n",
        "from sklearn.metrics import mean_squared_error\n",
        "from sklearn.model_selection import TimeSeriesSplit\n",
        "import matplotlib.pyplot as plt\n",
        "import joblib\n",
        "import warnings\n",
        "\n",
        "warnings.filterwarnings('ignore')"
      ]
    },
    {
      "cell_type": "code",
      "execution_count": 2,
      "metadata": {
        "id": "0AM60-zvg1Ae"
      },
      "outputs": [],
      "source": [
        "\n",
        "# Veri yükleme ve ön işleme\n",
        "data = pd.read_csv('Amazon.csv')\n",
        "data['Date'] = pd.to_datetime(data['Date'])\n",
        "data = data.set_index('Date')['Close']"
      ]
    },
    {
      "cell_type": "code",
      "execution_count": 3,
      "metadata": {
        "id": "9mbSV_Yug48N"
      },
      "outputs": [],
      "source": [
        "# NaN ve sonsuz değerleri kontrol etme ve temizleme\n",
        "data = data.replace([np.inf, -np.inf], np.nan).dropna()"
      ]
    },
    {
      "cell_type": "code",
      "execution_count": 4,
      "metadata": {
        "id": "xVEOTxWMg6GD"
      },
      "outputs": [],
      "source": [
        "# Durağanlık testi\n",
        "def test_stationarity(timeseries):\n",
        "    result = adfuller(timeseries, autolag='AIC')\n",
        "    print('ADF İstatistiği:', result[0])\n",
        "    print('p-değeri:', result[1])\n",
        "    print('Kritik Değerler:', result[4])\n",
        "    if result[1] <= 0.05:\n",
        "        print(\"Seri durağandır (H0 reddedilir)\")\n",
        "    else:\n",
        "        print(\"Seri durağan değildir (H0 reddedilemez)\")"
      ]
    },
    {
      "cell_type": "code",
      "execution_count": 5,
      "metadata": {
        "colab": {
          "base_uri": "https://localhost:8080/"
        },
        "id": "K1t5PHcog9Wi",
        "outputId": "f859bd5d-6ad6-4278-9ece-b6b715be69d5"
      },
      "outputs": [
        {
          "name": "stdout",
          "output_type": "stream",
          "text": [
            "Orijinal serinin durağanlık testi:\n",
            "ADF İstatistiği: 5.618546547149937\n",
            "p-değeri: 1.0\n",
            "Kritik Değerler: {'1%': -3.431476604615945, '5%': -2.8620378526446375, '10%': -2.567035004946881}\n",
            "Seri durağan değildir (H0 reddedilemez)\n"
          ]
        }
      ],
      "source": [
        "print(\"Orijinal serinin durağanlık testi:\")\n",
        "test_stationarity(data)"
      ]
    },
    {
      "cell_type": "code",
      "execution_count": 6,
      "metadata": {
        "colab": {
          "base_uri": "https://localhost:8080/"
        },
        "id": "j5BnYcqdhBEj",
        "outputId": "2b223166-8b2a-4213-efab-b4382fcd026c"
      },
      "outputs": [
        {
          "name": "stdout",
          "output_type": "stream",
          "text": [
            "\n",
            "Fark alınmış log serisinin durağanlık testi:\n",
            "ADF İstatistiği: -13.017840358325302\n",
            "p-değeri: 2.4894500683768166e-24\n",
            "Kritik Değerler: {'1%': -3.431476604615945, '5%': -2.8620378526446375, '10%': -2.567035004946881}\n",
            "Seri durağandır (H0 reddedilir)\n"
          ]
        }
      ],
      "source": [
        "# Log dönüşümü ve fark alma ile seriyi durağan hale getirme\n",
        "data_log = np.log(data)\n",
        "data_diff = data_log.diff().dropna()\n",
        "print(\"\\nFark alınmış log serisinin durağanlık testi:\")\n",
        "test_stationarity(data_diff)"
      ]
    },
    {
      "cell_type": "code",
      "execution_count": 7,
      "metadata": {
        "id": "w_bqvXLihDzR"
      },
      "outputs": [],
      "source": [
        "# Veriyi eğitim ve test setlerine ayırma\n",
        "train_size = int(len(data_diff) * 0.8)\n",
        "train, test = data_diff[:train_size], data_diff[train_size:]\n"
      ]
    },
    {
      "cell_type": "code",
      "execution_count": 8,
      "metadata": {
        "id": "H_l1HmmnhFKe"
      },
      "outputs": [],
      "source": [
        "# ARIMA modelini optimize etme\n",
        "def optimize_arima(train, test):\n",
        "    best_score, best_cfg = float(\"inf\"), None\n",
        "    p_values = range(0, 7)\n",
        "    d_values = [0, 1]\n",
        "    q_values = range(0, 7)\n",
        "\n",
        "    tscv = TimeSeriesSplit(n_splits=5)\n",
        "\n",
        "    for p in p_values:\n",
        "        for d in d_values:\n",
        "            for q in q_values:\n",
        "                order = (p,d,q)\n",
        "                try:\n",
        "                    cv_scores = []\n",
        "                    for train_index, val_index in tscv.split(train):\n",
        "                        cv_train, cv_val = train.iloc[train_index], train.iloc[val_index]\n",
        "                        model = ARIMA(cv_train, order=order)\n",
        "                        results = model.fit()\n",
        "                        forecast = results.forecast(steps=len(cv_val))\n",
        "                        mse = mean_squared_error(cv_val, forecast)\n",
        "                        cv_scores.append(mse)\n",
        "\n",
        "                    avg_mse = np.mean(cv_scores)\n",
        "                    if avg_mse < best_score:\n",
        "                        best_score, best_cfg = avg_mse, order\n",
        "                        print(f\"Yeni en iyi konfigürasyon: {order}, MSE: {avg_mse}\")\n",
        "                except:\n",
        "                    continue\n",
        "    return best_cfg"
      ]
    },
    {
      "cell_type": "code",
      "execution_count": 9,
      "metadata": {
        "colab": {
          "base_uri": "https://localhost:8080/"
        },
        "id": "2aIKsUF9hHuT",
        "outputId": "73103b3b-44b5-42ca-bece-e3fadd21e942"
      },
      "outputs": [
        {
          "name": "stdout",
          "output_type": "stream",
          "text": [
            "Yeni en iyi konfigürasyon: (0, 0, 0), MSE: 0.0011793369648792442\n",
            "Yeni en iyi konfigürasyon: (0, 0, 1), MSE: 0.0011793366338401629\n",
            "Yeni en iyi konfigürasyon: (0, 1, 1), MSE: 0.001177436367790475\n",
            "Yeni en iyi konfigürasyon: (0, 1, 2), MSE: 0.0011773954086554714\n",
            "Yeni en iyi konfigürasyon: (0, 1, 6), MSE: 0.001176841673657287\n",
            "Yeni en iyi konfigürasyon: (4, 1, 3), MSE: 0.0011768109368170108\n",
            "En iyi ARIMA düzeni: (4, 1, 3)\n"
          ]
        }
      ],
      "source": [
        "best_order = optimize_arima(train, test)\n",
        "print(f\"En iyi ARIMA düzeni: {best_order}\")"
      ]
    },
    {
      "cell_type": "code",
      "execution_count": 32,
      "metadata": {
        "id": "1EKYp7TThJQv"
      },
      "outputs": [],
      "source": [
        "# En iyi ARIMA modelini eğitme\n",
        "model = ARIMA(train, order=best_order)\n",
        "results = model.fit()"
      ]
    },
    {
      "cell_type": "markdown",
      "metadata": {
        "id": "lBVmozAgKb6D"
      },
      "source": []
    },
    {
      "cell_type": "code",
      "execution_count": 33,
      "metadata": {
        "colab": {
          "base_uri": "https://localhost:8080/"
        },
        "id": "nqi2UftFhMIQ",
        "outputId": "5145bf35-4666-4145-abc6-4dfe1c0f46f3"
      },
      "outputs": [
        {
          "name": "stdout",
          "output_type": "stream",
          "text": [
            "ARIMA RMSE: 0.01883234831863641\n"
          ]
        }
      ],
      "source": [
        "# Tahmin yapma ve RMSE hesaplama\n",
        "forecast = results.forecast(steps=len(test))\n",
        "rmse = np.sqrt(mean_squared_error(test, forecast))\n",
        "print(f'ARIMA RMSE: {rmse}')"
      ]
    },
    {
      "cell_type": "code",
      "execution_count": 34,
      "metadata": {
        "id": "cp6b66eY--tM"
      },
      "outputs": [],
      "source": [
        "# Tahminleri orijinal ölçeğe geri dönüştürme\n",
        "forecast_cumsum = forecast.cumsum()\n",
        "last_train_value = data_log.iloc[train_size - 1]\n",
        "forecast_log = pd.Series(last_train_value) + forecast_cumsum\n",
        "forecast_original_scale = np.exp(forecast_log)"
      ]
    },
    {
      "cell_type": "code",
      "execution_count": 41,
      "metadata": {
        "colab": {
          "base_uri": "https://localhost:8080/"
        },
        "id": "wMmaH_1vNG6H",
        "outputId": "9ea8730e-6f3f-486d-9902-73315712a93a"
      },
      "outputs": [
        {
          "name": "stdout",
          "output_type": "stream",
          "text": [
            "ARIMA model saved as arima_model.joblib\n"
          ]
        }
      ],
      "source": [
        "# Save the ARIMA model\n",
        "model_filename = 'arima_model.joblib'\n",
        "joblib.dump(results, model_filename)\n",
        "print(f\"ARIMA model saved as {model_filename}\")"
      ]
    },
    {
      "cell_type": "code",
      "execution_count": 42,
      "metadata": {
        "colab": {
          "base_uri": "https://localhost:8080/"
        },
        "id": "ue-y1pSGVOVi",
        "outputId": "d73fe434-2b20-4a73-fb85-387b6d587f8e"
      },
      "outputs": [
        {
          "name": "stdout",
          "output_type": "stream",
          "text": [
            "Last observation saved as last_observation.joblib\n"
          ]
        }
      ],
      "source": [
        "# Save the last observation of the training data\n",
        "last_observation = data.iloc[train_size - 1]\n",
        "observation_filename = 'last_observation.joblib'\n",
        "joblib.dump(last_observation, observation_filename)\n",
        "print(f\"Last observation saved as {observation_filename}\")"
      ]
    },
    {
      "cell_type": "code",
      "execution_count": 43,
      "metadata": {
        "colab": {
          "base_uri": "https://localhost:8080/"
        },
        "id": "pqVh00-JVaca",
        "outputId": "7052957d-9840-4adc-960c-fe0bcf064f10"
      },
      "outputs": [
        {
          "name": "stdout",
          "output_type": "stream",
          "text": [
            "Best order saved as best_order.joblib\n"
          ]
        }
      ],
      "source": [
        "# Save the best order\n",
        "order_filename = 'best_order.joblib'\n",
        "joblib.dump(best_order, order_filename)\n",
        "print(f\"Best order saved as {order_filename}\")"
      ]
    },
    {
      "cell_type": "code",
      "execution_count": null,
      "metadata": {
        "id": "tBVSkMOlVbuV"
      },
      "outputs": [],
      "source": []
    }
  ],
  "metadata": {
    "colab": {
      "provenance": []
    },
    "kernelspec": {
      "display_name": "Python 3",
      "name": "python3"
    },
    "language_info": {
      "name": "python"
    }
  },
  "nbformat": 4,
  "nbformat_minor": 0
}
